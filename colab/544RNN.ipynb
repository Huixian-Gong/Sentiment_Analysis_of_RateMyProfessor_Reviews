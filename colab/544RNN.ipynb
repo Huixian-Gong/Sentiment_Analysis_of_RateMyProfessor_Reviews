{
  "cells": [
    {
      "cell_type": "code",
      "execution_count": 4,
      "metadata": {
        "colab": {
          "base_uri": "https://localhost:8080/"
        },
        "id": "fvClTLECx5cc",
        "outputId": "60bae289-f8ee-4eb3-f23a-ff7e2f134ea8"
      },
      "outputs": [
        {
          "name": "stdout",
          "output_type": "stream",
          "text": [
            "Collecting contractions\n",
            "  Downloading contractions-0.1.73-py2.py3-none-any.whl.metadata (1.2 kB)\n",
            "Collecting textsearch>=0.0.21 (from contractions)\n",
            "  Downloading textsearch-0.0.24-py2.py3-none-any.whl.metadata (1.2 kB)\n",
            "Collecting anyascii (from textsearch>=0.0.21->contractions)\n",
            "  Downloading anyascii-0.3.2-py3-none-any.whl.metadata (1.5 kB)\n",
            "Collecting pyahocorasick (from textsearch>=0.0.21->contractions)\n",
            "  Downloading pyahocorasick-2.1.0-cp310-cp310-manylinux_2_5_x86_64.manylinux1_x86_64.manylinux_2_12_x86_64.manylinux2010_x86_64.whl.metadata (13 kB)\n",
            "Downloading contractions-0.1.73-py2.py3-none-any.whl (8.7 kB)\n",
            "Downloading textsearch-0.0.24-py2.py3-none-any.whl (7.6 kB)\n",
            "Downloading anyascii-0.3.2-py3-none-any.whl (289 kB)\n",
            "\u001b[2K   \u001b[90m━━━━━━━━━━━━━━━━━━━━━━━━━━━━━━━━━━━━━━━━\u001b[0m \u001b[32m289.9/289.9 kB\u001b[0m \u001b[31m4.8 MB/s\u001b[0m eta \u001b[36m0:00:00\u001b[0m\n",
            "\u001b[?25hDownloading pyahocorasick-2.1.0-cp310-cp310-manylinux_2_5_x86_64.manylinux1_x86_64.manylinux_2_12_x86_64.manylinux2010_x86_64.whl (110 kB)\n",
            "\u001b[2K   \u001b[90m━━━━━━━━━━━━━━━━━━━━━━━━━━━━━━━━━━━━━━━━\u001b[0m \u001b[32m110.7/110.7 kB\u001b[0m \u001b[31m7.9 MB/s\u001b[0m eta \u001b[36m0:00:00\u001b[0m\n",
            "\u001b[?25hInstalling collected packages: pyahocorasick, anyascii, textsearch, contractions\n",
            "Successfully installed anyascii-0.3.2 contractions-0.1.73 pyahocorasick-2.1.0 textsearch-0.0.24\n"
          ]
        }
      ],
      "source": [
        "# !pip install contractions"
      ]
    },
    {
      "cell_type": "code",
      "execution_count": 2,
      "metadata": {
        "id": "a_oZbd9hxSMw"
      },
      "outputs": [],
      "source": [
        "from sklearn.model_selection import train_test_split\n",
        "from tensorflow.keras.preprocessing.text import Tokenizer\n",
        "from tensorflow.keras.preprocessing.sequence import pad_sequences\n",
        "from tensorflow.keras.models import Model\n",
        "from tensorflow.keras.layers import Input, Embedding, LSTM, Dense, Dropout\n",
        "from tensorflow.keras.optimizers import Adam\n",
        "import tensorflow as tf\n",
        "from sklearn.metrics import accuracy_score, mean_absolute_error"
      ]
    },
    {
      "cell_type": "code",
      "execution_count": 5,
      "metadata": {
        "id": "8sC__B3FxtOA"
      },
      "outputs": [],
      "source": [
        "import numpy as np\n",
        "import pandas as pd\n",
        "import tqdm\n",
        "import transformers\n",
        "import string\n",
        "import re\n",
        "import nltk\n",
        "import contractions\n",
        "from nltk.corpus import stopwords\n",
        "from nltk.tokenize import word_tokenize\n",
        "from nltk.stem import PorterStemmer"
      ]
    },
    {
      "cell_type": "code",
      "execution_count": 6,
      "metadata": {
        "colab": {
          "base_uri": "https://localhost:8080/"
        },
        "id": "Cor_HHenxgJ2",
        "outputId": "c28f659f-6765-46ef-a4e3-9ea2606b7181"
      },
      "outputs": [
        {
          "name": "stdout",
          "output_type": "stream",
          "text": [
            "           professor_name                                 school_name  \\\n",
            "0          Leslie  Looney  University Of Illinois at Urbana-Champaign   \n",
            "1          Leslie  Looney  University Of Illinois at Urbana-Champaign   \n",
            "2          Leslie  Looney  University Of Illinois at Urbana-Champaign   \n",
            "3          Leslie  Looney  University Of Illinois at Urbana-Champaign   \n",
            "4          Leslie  Looney  University Of Illinois at Urbana-Champaign   \n",
            "...                   ...                                         ...   \n",
            "19995  Dennis  Richardson                       Quinnipiac University   \n",
            "19996  Dennis  Richardson                       Quinnipiac University   \n",
            "19997  Dennis  Richardson                       Quinnipiac University   \n",
            "19998  Dennis  Richardson                       Quinnipiac University   \n",
            "19999  Dennis  Richardson                       Quinnipiac University   \n",
            "\n",
            "            department_name                    local_name state_name  \\\n",
            "0      Astronomy department   Champaign\\xe2\\x80\\x93Urbana         IL   \n",
            "1      Astronomy department   Champaign\\xe2\\x80\\x93Urbana         IL   \n",
            "2      Astronomy department   Champaign\\xe2\\x80\\x93Urbana         IL   \n",
            "3      Astronomy department   Champaign\\xe2\\x80\\x93Urbana         IL   \n",
            "4      Astronomy department   Champaign\\xe2\\x80\\x93Urbana         IL   \n",
            "...                     ...                           ...        ...   \n",
            "19995    Biology department                        Hamden         CT   \n",
            "19996    Biology department                        Hamden         CT   \n",
            "19997    Biology department                        Hamden         CT   \n",
            "19998    Biology department                        Hamden         CT   \n",
            "19999    Biology department                        Hamden         CT   \n",
            "\n",
            "       year_since_first_review  star_rating take_again  diff_index  \\\n",
            "0                         11.0          4.7        NaN         2.0   \n",
            "1                         11.0          4.7        NaN         2.0   \n",
            "2                         11.0          4.7        NaN         2.0   \n",
            "3                         11.0          4.7        NaN         2.0   \n",
            "4                         11.0          4.7        NaN         2.0   \n",
            "...                        ...          ...        ...         ...   \n",
            "19995                     15.0          4.0        NaN         3.5   \n",
            "19996                     15.0          4.0        NaN         3.5   \n",
            "19997                     15.0          4.0        NaN         3.5   \n",
            "19998                     15.0          4.0        NaN         3.5   \n",
            "19999                     15.0          4.0        NaN         3.5   \n",
            "\n",
            "                                           tag_professor  ...  \\\n",
            "0      Hilarious (2)  GROUP PROJECTS (2)  Gives good ...  ...   \n",
            "1      Hilarious (2)  GROUP PROJECTS (2)  Gives good ...  ...   \n",
            "2      Hilarious (2)  GROUP PROJECTS (2)  Gives good ...  ...   \n",
            "3      Hilarious (2)  GROUP PROJECTS (2)  Gives good ...  ...   \n",
            "4      Hilarious (2)  GROUP PROJECTS (2)  Gives good ...  ...   \n",
            "...                                                  ...  ...   \n",
            "19995  BEWARE OF POP QUIZZES (4)  Amazing lectures (3...  ...   \n",
            "19996  BEWARE OF POP QUIZZES (4)  Amazing lectures (3...  ...   \n",
            "19997  BEWARE OF POP QUIZZES (4)  Amazing lectures (3...  ...   \n",
            "19998  BEWARE OF POP QUIZZES (4)  Amazing lectures (3...  ...   \n",
            "19999  BEWARE OF POP QUIZZES (4)  Amazing lectures (3...  ...   \n",
            "\n",
            "       lots_of_homework accessible_outside_class lecture_heavy extra_credit  \\\n",
            "0                     0                        0             0            0   \n",
            "1                     0                        0             0            0   \n",
            "2                     0                        0             0            0   \n",
            "3                     0                        0             0            0   \n",
            "4                     0                        0             0            0   \n",
            "...                 ...                      ...           ...          ...   \n",
            "19995                 0                        1             0            1   \n",
            "19996                 0                        1             0            1   \n",
            "19997                 0                        1             0            1   \n",
            "19998                 0                        1             0            1   \n",
            "19999                 0                        1             0            1   \n",
            "\n",
            "       graded_by_few_things  group_projects test_heavy so_many_papers  \\\n",
            "0                         0               1          0              0   \n",
            "1                         0               1          0              0   \n",
            "2                         0               1          0              0   \n",
            "3                         0               1          0              0   \n",
            "4                         0               1          0              0   \n",
            "...                     ...             ...        ...            ...   \n",
            "19995                     1               0          0              0   \n",
            "19996                     1               0          0              0   \n",
            "19997                     1               0          0              0   \n",
            "19998                     1               0          0              0   \n",
            "19999                     1               0          0              0   \n",
            "\n",
            "      beware_of_pop_quizzes IsCourseOnline  \n",
            "0                         0              0  \n",
            "1                         0              0  \n",
            "2                         0              0  \n",
            "3                         0              0  \n",
            "4                         0              0  \n",
            "...                     ...            ...  \n",
            "19995                     1              0  \n",
            "19996                     1              0  \n",
            "19997                     1              0  \n",
            "19998                     1              0  \n",
            "19999                     1              0  \n",
            "\n",
            "[20000 rows x 51 columns]\n"
          ]
        }
      ],
      "source": [
        "raw_data = pd.read_csv('RateMyProfessor_Sample.csv')\n",
        "print(raw_data)"
      ]
    },
    {
      "cell_type": "code",
      "execution_count": 10,
      "metadata": {
        "colab": {
          "base_uri": "https://localhost:8080/"
        },
        "id": "INysjeM9yaX9",
        "outputId": "03e79cf3-ee3c-4adc-d937-98db274d3faa"
      },
      "outputs": [
        {
          "name": "stderr",
          "output_type": "stream",
          "text": [
            "[nltk_data] Downloading package stopwords to /root/nltk_data...\n",
            "[nltk_data]   Package stopwords is already up-to-date!\n",
            "[nltk_data] Downloading package punkt to /root/nltk_data...\n",
            "[nltk_data]   Unzipping tokenizers/punkt.zip.\n"
          ]
        }
      ],
      "source": [
        "nltk.download('stopwords')\n",
        "nltk.download('punkt')\n",
        "stop_words = set(stopwords.words('english'))\n",
        "stemmer = PorterStemmer()\n",
        "\n",
        "wanted_stopword = ['not', 'no']\n",
        "for ws in wanted_stopword:\n",
        "    stop_words.discard(ws)\n",
        "\n",
        "# Define a function to preprocess comments\n",
        "def preprocess_text(text):\n",
        "    text = contractions.fix(str(text))\n",
        "\n",
        "    # 1. Convert to lowercase\n",
        "    text = str(text).lower()\n",
        "\n",
        "    # 2. Remove punctuation\n",
        "    text = text.translate(str.maketrans('', '', string.punctuation))\n",
        "\n",
        "    # 3. Tokenize words\n",
        "    words = word_tokenize(text)\n",
        "\n",
        "    # 4. Remove stopwords\n",
        "    words = [word for word in words if word not in stop_words]\n",
        "\n",
        "    # 5. Perform stemming (optional)\n",
        "    words = [stemmer.stem(word) for word in words]\n",
        "\n",
        "    # 6. Join words back into a single string\n",
        "    processed_text = ' '.join(words)\n",
        "\n",
        "    return processed_text"
      ]
    },
    {
      "cell_type": "code",
      "execution_count": 11,
      "metadata": {
        "id": "zjrM3sdryvVL"
      },
      "outputs": [],
      "source": [
        "data = raw_data[['student_star', 'student_difficult', 'comments', 'gives_good_feedback', 'caring', 'respected',\n",
        "             'participation_matters', 'clear_grading_criteria', 'skip_class', 'amazing_lectures',\n",
        "             'inspirational', 'tough_grader', 'hilarious', 'get_ready_to_read', 'lots_of_homework',\n",
        "             'accessible_outside_class', 'lecture_heavy', 'extra_credit', 'graded_by_few_things',\n",
        "             'group_projects','test_heavy', 'so_many_papers', 'beware_of_pop_quizzes', 'IsCourseOnline']]\n",
        "\n",
        "# Apply preprocessing to the 'comments' column\n",
        "data = data[data['comments'] != 'No Comments']\n",
        "data = data[data['comments'] != '']\n",
        "data['comments'] = data['comments'].apply(preprocess_text)\n",
        "data = data[data['comments'].apply(len) >= 4]"
      ]
    },
    {
      "cell_type": "code",
      "execution_count": 12,
      "metadata": {
        "id": "WJUeiA53zVUP"
      },
      "outputs": [],
      "source": [
        "X = data['comments']\n",
        "y = data.drop('comments', axis=1)"
      ]
    },
    {
      "cell_type": "code",
      "execution_count": 13,
      "metadata": {
        "colab": {
          "base_uri": "https://localhost:8080/"
        },
        "id": "WzJwwwj4zm4N",
        "outputId": "1a4747d6-d0d6-48b2-bff9-ab0e2b8c3d75"
      },
      "outputs": [
        {
          "name": "stdout",
          "output_type": "stream",
          "text": [
            "Sample of input data (X):\n",
            "Comment 1: class hard twoinon gene knockout content stimul unlik class actual particip pass section easi offer ...\n",
            "Comment 2: definit go choos prof looney class interest class easi bring note exam dont need rememb lot lot bonu...\n",
            "Comment 3: overal enjoy class assign straightforward interest didnt enjoy video project felt like no one group ...\n",
            "Comment 4: ye possibl get definit work content pretti interest tog get super organ class multipl thing due ever...\n",
            "Comment 5: professor looney great knowledg astronomi explain super easi way elementari class taught class great...\n"
          ]
        }
      ],
      "source": [
        "print(\"Sample of input data (X):\")\n",
        "for i in range(5):  # Print first 5 comments\n",
        "    print(f\"Comment {i+1}: {X[i][:100]}...\")"
      ]
    },
    {
      "cell_type": "code",
      "execution_count": 14,
      "metadata": {
        "id": "6u-B6jnHzscv"
      },
      "outputs": [],
      "source": [
        "X = data['comments']\n",
        "y = data[['student_star', 'student_difficult', 'gives_good_feedback', 'caring', 'respected']]"
      ]
    },
    {
      "cell_type": "code",
      "execution_count": 15,
      "metadata": {
        "id": "R7DMhCYVzvJz"
      },
      "outputs": [],
      "source": [
        "max_words = 10000\n",
        "max_len = 142 # max comment length\n",
        "\n",
        "tokenizer = Tokenizer(num_words=max_words)\n",
        "tokenizer.fit_on_texts(X)\n",
        "X_seq = tokenizer.texts_to_sequences(X)\n",
        "X_pad = pad_sequences(X_seq, maxlen=max_len)"
      ]
    },
    {
      "cell_type": "code",
      "execution_count": 17,
      "metadata": {
        "id": "U6gsX36LzybQ"
      },
      "outputs": [],
      "source": [
        "X_train, X_test, y_train, y_test = train_test_split(X_pad, y, test_size=0.2, random_state=42)"
      ]
    },
    {
      "cell_type": "code",
      "execution_count": 19,
      "metadata": {
        "colab": {
          "base_uri": "https://localhost:8080/"
        },
        "id": "ix8LPuhSz25G",
        "outputId": "8f097d6a-3e22-44aa-bfc5-78aed22ca240"
      },
      "outputs": [
        {
          "name": "stdout",
          "output_type": "stream",
          "text": [
            "['student_star', 'student_difficult', 'gives_good_feedback', 'caring', 'respected']\n"
          ]
        }
      ],
      "source": [
        "target_columns = y.columns.tolist()\n",
        "print(target_columns)"
      ]
    },
    {
      "cell_type": "code",
      "execution_count": 20,
      "metadata": {
        "id": "WZ54bgB7z-84"
      },
      "outputs": [],
      "source": [
        "vocab_size = len(tokenizer.word_index) + 1\n",
        "embedding_dim = max_len\n",
        "\n",
        "input_layer = Input(shape=(max_len,))\n",
        "embedding_layer = Embedding(vocab_size, embedding_dim)(input_layer)\n",
        "lstm_layer1 = LSTM(64, return_sequences=True)(embedding_layer)\n",
        "lstm_layer2 = LSTM(32)(lstm_layer1)\n",
        "dense_layer = Dense(64, activation='relu')(lstm_layer2)\n",
        "dropout_layer = Dropout(0.5)(dense_layer)\n",
        "\n",
        "outputs = []\n",
        "for column in target_columns:\n",
        "    if y[column].dtype == 'float64':\n",
        "        # For continuous variables (like 'student_star' and 'student_difficult')\n",
        "        outputs.append(Dense(1, name=column)(dropout_layer))\n",
        "    else:\n",
        "        # For binary variables (assuming 0 or 1)\n",
        "        outputs.append(Dense(1, activation='sigmoid', name=column)(dropout_layer))\n",
        "\n",
        "model = Model(inputs=input_layer, outputs=outputs)"
      ]
    },
    {
      "cell_type": "code",
      "execution_count": 21,
      "metadata": {
        "id": "oPFk-cGr0CAN"
      },
      "outputs": [],
      "source": [
        "losses = ['mse' if y[col].dtype == 'float64' else 'binary_crossentropy' for col in target_columns]\n",
        "metrics = []\n",
        "\n",
        "for col in target_columns:\n",
        "    if y[col].dtype == 'float64':\n",
        "        metrics.append(tf.keras.metrics.MeanAbsoluteError(name=f'{col}_mae'))\n",
        "    else:\n",
        "        metrics.append(tf.keras.metrics.BinaryAccuracy(name=f'{col}_accuracy'))\n",
        "\n",
        "# Compile the model with the updated losses and metrics\n",
        "model.compile(\n",
        "    optimizer='adam',\n",
        "    loss=losses,\n",
        "    loss_weights=[1.0] * len(target_columns),\n",
        "    metrics=metrics\n",
        ")\n"
      ]
    },
    {
      "cell_type": "code",
      "execution_count": 22,
      "metadata": {
        "colab": {
          "base_uri": "https://localhost:8080/",
          "height": 512
        },
        "id": "VDOU6piG0Ec2",
        "outputId": "65fdb26f-bbd0-4d71-917a-8b6561a667a9"
      },
      "outputs": [
        {
          "data": {
            "text/html": [
              "<pre style=\"white-space:pre;overflow-x:auto;line-height:normal;font-family:Menlo,'DejaVu Sans Mono',consolas,'Courier New',monospace\"><span style=\"font-weight: bold\">Model: \"functional\"</span>\n",
              "</pre>\n"
            ],
            "text/plain": [
              "\u001b[1mModel: \"functional\"\u001b[0m\n"
            ]
          },
          "metadata": {},
          "output_type": "display_data"
        },
        {
          "data": {
            "text/html": [
              "<pre style=\"white-space:pre;overflow-x:auto;line-height:normal;font-family:Menlo,'DejaVu Sans Mono',consolas,'Courier New',monospace\">┏━━━━━━━━━━━━━━━━━━━━━━━━━━━┳━━━━━━━━━━━━━━━━━━━━━━━━┳━━━━━━━━━━━━━━━━┳━━━━━━━━━━━━━━━━━━━━━━━━┓\n",
              "┃<span style=\"font-weight: bold\"> Layer (type)              </span>┃<span style=\"font-weight: bold\"> Output Shape           </span>┃<span style=\"font-weight: bold\">        Param # </span>┃<span style=\"font-weight: bold\"> Connected to           </span>┃\n",
              "┡━━━━━━━━━━━━━━━━━━━━━━━━━━━╇━━━━━━━━━━━━━━━━━━━━━━━━╇━━━━━━━━━━━━━━━━╇━━━━━━━━━━━━━━━━━━━━━━━━┩\n",
              "│ input_layer (<span style=\"color: #0087ff; text-decoration-color: #0087ff\">InputLayer</span>)  │ (<span style=\"color: #00d7ff; text-decoration-color: #00d7ff\">None</span>, <span style=\"color: #00af00; text-decoration-color: #00af00\">142</span>)            │              <span style=\"color: #00af00; text-decoration-color: #00af00\">0</span> │ -                      │\n",
              "├───────────────────────────┼────────────────────────┼────────────────┼────────────────────────┤\n",
              "│ embedding (<span style=\"color: #0087ff; text-decoration-color: #0087ff\">Embedding</span>)     │ (<span style=\"color: #00d7ff; text-decoration-color: #00d7ff\">None</span>, <span style=\"color: #00af00; text-decoration-color: #00af00\">142</span>, <span style=\"color: #00af00; text-decoration-color: #00af00\">142</span>)       │      <span style=\"color: #00af00; text-decoration-color: #00af00\">2,153,146</span> │ input_layer[<span style=\"color: #00af00; text-decoration-color: #00af00\">0</span>][<span style=\"color: #00af00; text-decoration-color: #00af00\">0</span>]      │\n",
              "├───────────────────────────┼────────────────────────┼────────────────┼────────────────────────┤\n",
              "│ lstm (<span style=\"color: #0087ff; text-decoration-color: #0087ff\">LSTM</span>)               │ (<span style=\"color: #00d7ff; text-decoration-color: #00d7ff\">None</span>, <span style=\"color: #00af00; text-decoration-color: #00af00\">142</span>, <span style=\"color: #00af00; text-decoration-color: #00af00\">64</span>)        │         <span style=\"color: #00af00; text-decoration-color: #00af00\">52,992</span> │ embedding[<span style=\"color: #00af00; text-decoration-color: #00af00\">0</span>][<span style=\"color: #00af00; text-decoration-color: #00af00\">0</span>]        │\n",
              "├───────────────────────────┼────────────────────────┼────────────────┼────────────────────────┤\n",
              "│ lstm_1 (<span style=\"color: #0087ff; text-decoration-color: #0087ff\">LSTM</span>)             │ (<span style=\"color: #00d7ff; text-decoration-color: #00d7ff\">None</span>, <span style=\"color: #00af00; text-decoration-color: #00af00\">32</span>)             │         <span style=\"color: #00af00; text-decoration-color: #00af00\">12,416</span> │ lstm[<span style=\"color: #00af00; text-decoration-color: #00af00\">0</span>][<span style=\"color: #00af00; text-decoration-color: #00af00\">0</span>]             │\n",
              "├───────────────────────────┼────────────────────────┼────────────────┼────────────────────────┤\n",
              "│ dense (<span style=\"color: #0087ff; text-decoration-color: #0087ff\">Dense</span>)             │ (<span style=\"color: #00d7ff; text-decoration-color: #00d7ff\">None</span>, <span style=\"color: #00af00; text-decoration-color: #00af00\">64</span>)             │          <span style=\"color: #00af00; text-decoration-color: #00af00\">2,112</span> │ lstm_1[<span style=\"color: #00af00; text-decoration-color: #00af00\">0</span>][<span style=\"color: #00af00; text-decoration-color: #00af00\">0</span>]           │\n",
              "├───────────────────────────┼────────────────────────┼────────────────┼────────────────────────┤\n",
              "│ dropout (<span style=\"color: #0087ff; text-decoration-color: #0087ff\">Dropout</span>)         │ (<span style=\"color: #00d7ff; text-decoration-color: #00d7ff\">None</span>, <span style=\"color: #00af00; text-decoration-color: #00af00\">64</span>)             │              <span style=\"color: #00af00; text-decoration-color: #00af00\">0</span> │ dense[<span style=\"color: #00af00; text-decoration-color: #00af00\">0</span>][<span style=\"color: #00af00; text-decoration-color: #00af00\">0</span>]            │\n",
              "├───────────────────────────┼────────────────────────┼────────────────┼────────────────────────┤\n",
              "│ student_star (<span style=\"color: #0087ff; text-decoration-color: #0087ff\">Dense</span>)      │ (<span style=\"color: #00d7ff; text-decoration-color: #00d7ff\">None</span>, <span style=\"color: #00af00; text-decoration-color: #00af00\">1</span>)              │             <span style=\"color: #00af00; text-decoration-color: #00af00\">65</span> │ dropout[<span style=\"color: #00af00; text-decoration-color: #00af00\">0</span>][<span style=\"color: #00af00; text-decoration-color: #00af00\">0</span>]          │\n",
              "├───────────────────────────┼────────────────────────┼────────────────┼────────────────────────┤\n",
              "│ student_difficult (<span style=\"color: #0087ff; text-decoration-color: #0087ff\">Dense</span>) │ (<span style=\"color: #00d7ff; text-decoration-color: #00d7ff\">None</span>, <span style=\"color: #00af00; text-decoration-color: #00af00\">1</span>)              │             <span style=\"color: #00af00; text-decoration-color: #00af00\">65</span> │ dropout[<span style=\"color: #00af00; text-decoration-color: #00af00\">0</span>][<span style=\"color: #00af00; text-decoration-color: #00af00\">0</span>]          │\n",
              "├───────────────────────────┼────────────────────────┼────────────────┼────────────────────────┤\n",
              "│ gives_good_feedback       │ (<span style=\"color: #00d7ff; text-decoration-color: #00d7ff\">None</span>, <span style=\"color: #00af00; text-decoration-color: #00af00\">1</span>)              │             <span style=\"color: #00af00; text-decoration-color: #00af00\">65</span> │ dropout[<span style=\"color: #00af00; text-decoration-color: #00af00\">0</span>][<span style=\"color: #00af00; text-decoration-color: #00af00\">0</span>]          │\n",
              "│ (<span style=\"color: #0087ff; text-decoration-color: #0087ff\">Dense</span>)                   │                        │                │                        │\n",
              "├───────────────────────────┼────────────────────────┼────────────────┼────────────────────────┤\n",
              "│ caring (<span style=\"color: #0087ff; text-decoration-color: #0087ff\">Dense</span>)            │ (<span style=\"color: #00d7ff; text-decoration-color: #00d7ff\">None</span>, <span style=\"color: #00af00; text-decoration-color: #00af00\">1</span>)              │             <span style=\"color: #00af00; text-decoration-color: #00af00\">65</span> │ dropout[<span style=\"color: #00af00; text-decoration-color: #00af00\">0</span>][<span style=\"color: #00af00; text-decoration-color: #00af00\">0</span>]          │\n",
              "├───────────────────────────┼────────────────────────┼────────────────┼────────────────────────┤\n",
              "│ respected (<span style=\"color: #0087ff; text-decoration-color: #0087ff\">Dense</span>)         │ (<span style=\"color: #00d7ff; text-decoration-color: #00d7ff\">None</span>, <span style=\"color: #00af00; text-decoration-color: #00af00\">1</span>)              │             <span style=\"color: #00af00; text-decoration-color: #00af00\">65</span> │ dropout[<span style=\"color: #00af00; text-decoration-color: #00af00\">0</span>][<span style=\"color: #00af00; text-decoration-color: #00af00\">0</span>]          │\n",
              "└───────────────────────────┴────────────────────────┴────────────────┴────────────────────────┘\n",
              "</pre>\n"
            ],
            "text/plain": [
              "┏━━━━━━━━━━━━━━━━━━━━━━━━━━━┳━━━━━━━━━━━━━━━━━━━━━━━━┳━━━━━━━━━━━━━━━━┳━━━━━━━━━━━━━━━━━━━━━━━━┓\n",
              "┃\u001b[1m \u001b[0m\u001b[1mLayer (type)             \u001b[0m\u001b[1m \u001b[0m┃\u001b[1m \u001b[0m\u001b[1mOutput Shape          \u001b[0m\u001b[1m \u001b[0m┃\u001b[1m \u001b[0m\u001b[1m       Param #\u001b[0m\u001b[1m \u001b[0m┃\u001b[1m \u001b[0m\u001b[1mConnected to          \u001b[0m\u001b[1m \u001b[0m┃\n",
              "┡━━━━━━━━━━━━━━━━━━━━━━━━━━━╇━━━━━━━━━━━━━━━━━━━━━━━━╇━━━━━━━━━━━━━━━━╇━━━━━━━━━━━━━━━━━━━━━━━━┩\n",
              "│ input_layer (\u001b[38;5;33mInputLayer\u001b[0m)  │ (\u001b[38;5;45mNone\u001b[0m, \u001b[38;5;34m142\u001b[0m)            │              \u001b[38;5;34m0\u001b[0m │ -                      │\n",
              "├───────────────────────────┼────────────────────────┼────────────────┼────────────────────────┤\n",
              "│ embedding (\u001b[38;5;33mEmbedding\u001b[0m)     │ (\u001b[38;5;45mNone\u001b[0m, \u001b[38;5;34m142\u001b[0m, \u001b[38;5;34m142\u001b[0m)       │      \u001b[38;5;34m2,153,146\u001b[0m │ input_layer[\u001b[38;5;34m0\u001b[0m][\u001b[38;5;34m0\u001b[0m]      │\n",
              "├───────────────────────────┼────────────────────────┼────────────────┼────────────────────────┤\n",
              "│ lstm (\u001b[38;5;33mLSTM\u001b[0m)               │ (\u001b[38;5;45mNone\u001b[0m, \u001b[38;5;34m142\u001b[0m, \u001b[38;5;34m64\u001b[0m)        │         \u001b[38;5;34m52,992\u001b[0m │ embedding[\u001b[38;5;34m0\u001b[0m][\u001b[38;5;34m0\u001b[0m]        │\n",
              "├───────────────────────────┼────────────────────────┼────────────────┼────────────────────────┤\n",
              "│ lstm_1 (\u001b[38;5;33mLSTM\u001b[0m)             │ (\u001b[38;5;45mNone\u001b[0m, \u001b[38;5;34m32\u001b[0m)             │         \u001b[38;5;34m12,416\u001b[0m │ lstm[\u001b[38;5;34m0\u001b[0m][\u001b[38;5;34m0\u001b[0m]             │\n",
              "├───────────────────────────┼────────────────────────┼────────────────┼────────────────────────┤\n",
              "│ dense (\u001b[38;5;33mDense\u001b[0m)             │ (\u001b[38;5;45mNone\u001b[0m, \u001b[38;5;34m64\u001b[0m)             │          \u001b[38;5;34m2,112\u001b[0m │ lstm_1[\u001b[38;5;34m0\u001b[0m][\u001b[38;5;34m0\u001b[0m]           │\n",
              "├───────────────────────────┼────────────────────────┼────────────────┼────────────────────────┤\n",
              "│ dropout (\u001b[38;5;33mDropout\u001b[0m)         │ (\u001b[38;5;45mNone\u001b[0m, \u001b[38;5;34m64\u001b[0m)             │              \u001b[38;5;34m0\u001b[0m │ dense[\u001b[38;5;34m0\u001b[0m][\u001b[38;5;34m0\u001b[0m]            │\n",
              "├───────────────────────────┼────────────────────────┼────────────────┼────────────────────────┤\n",
              "│ student_star (\u001b[38;5;33mDense\u001b[0m)      │ (\u001b[38;5;45mNone\u001b[0m, \u001b[38;5;34m1\u001b[0m)              │             \u001b[38;5;34m65\u001b[0m │ dropout[\u001b[38;5;34m0\u001b[0m][\u001b[38;5;34m0\u001b[0m]          │\n",
              "├───────────────────────────┼────────────────────────┼────────────────┼────────────────────────┤\n",
              "│ student_difficult (\u001b[38;5;33mDense\u001b[0m) │ (\u001b[38;5;45mNone\u001b[0m, \u001b[38;5;34m1\u001b[0m)              │             \u001b[38;5;34m65\u001b[0m │ dropout[\u001b[38;5;34m0\u001b[0m][\u001b[38;5;34m0\u001b[0m]          │\n",
              "├───────────────────────────┼────────────────────────┼────────────────┼────────────────────────┤\n",
              "│ gives_good_feedback       │ (\u001b[38;5;45mNone\u001b[0m, \u001b[38;5;34m1\u001b[0m)              │             \u001b[38;5;34m65\u001b[0m │ dropout[\u001b[38;5;34m0\u001b[0m][\u001b[38;5;34m0\u001b[0m]          │\n",
              "│ (\u001b[38;5;33mDense\u001b[0m)                   │                        │                │                        │\n",
              "├───────────────────────────┼────────────────────────┼────────────────┼────────────────────────┤\n",
              "│ caring (\u001b[38;5;33mDense\u001b[0m)            │ (\u001b[38;5;45mNone\u001b[0m, \u001b[38;5;34m1\u001b[0m)              │             \u001b[38;5;34m65\u001b[0m │ dropout[\u001b[38;5;34m0\u001b[0m][\u001b[38;5;34m0\u001b[0m]          │\n",
              "├───────────────────────────┼────────────────────────┼────────────────┼────────────────────────┤\n",
              "│ respected (\u001b[38;5;33mDense\u001b[0m)         │ (\u001b[38;5;45mNone\u001b[0m, \u001b[38;5;34m1\u001b[0m)              │             \u001b[38;5;34m65\u001b[0m │ dropout[\u001b[38;5;34m0\u001b[0m][\u001b[38;5;34m0\u001b[0m]          │\n",
              "└───────────────────────────┴────────────────────────┴────────────────┴────────────────────────┘\n"
            ]
          },
          "metadata": {},
          "output_type": "display_data"
        },
        {
          "data": {
            "text/html": [
              "<pre style=\"white-space:pre;overflow-x:auto;line-height:normal;font-family:Menlo,'DejaVu Sans Mono',consolas,'Courier New',monospace\"><span style=\"font-weight: bold\"> Total params: </span><span style=\"color: #00af00; text-decoration-color: #00af00\">2,220,991</span> (8.47 MB)\n",
              "</pre>\n"
            ],
            "text/plain": [
              "\u001b[1m Total params: \u001b[0m\u001b[38;5;34m2,220,991\u001b[0m (8.47 MB)\n"
            ]
          },
          "metadata": {},
          "output_type": "display_data"
        },
        {
          "data": {
            "text/html": [
              "<pre style=\"white-space:pre;overflow-x:auto;line-height:normal;font-family:Menlo,'DejaVu Sans Mono',consolas,'Courier New',monospace\"><span style=\"font-weight: bold\"> Trainable params: </span><span style=\"color: #00af00; text-decoration-color: #00af00\">2,220,991</span> (8.47 MB)\n",
              "</pre>\n"
            ],
            "text/plain": [
              "\u001b[1m Trainable params: \u001b[0m\u001b[38;5;34m2,220,991\u001b[0m (8.47 MB)\n"
            ]
          },
          "metadata": {},
          "output_type": "display_data"
        },
        {
          "data": {
            "text/html": [
              "<pre style=\"white-space:pre;overflow-x:auto;line-height:normal;font-family:Menlo,'DejaVu Sans Mono',consolas,'Courier New',monospace\"><span style=\"font-weight: bold\"> Non-trainable params: </span><span style=\"color: #00af00; text-decoration-color: #00af00\">0</span> (0.00 B)\n",
              "</pre>\n"
            ],
            "text/plain": [
              "\u001b[1m Non-trainable params: \u001b[0m\u001b[38;5;34m0\u001b[0m (0.00 B)\n"
            ]
          },
          "metadata": {},
          "output_type": "display_data"
        }
      ],
      "source": [
        "model.summary()"
      ]
    },
    {
      "cell_type": "code",
      "execution_count": 23,
      "metadata": {
        "colab": {
          "base_uri": "https://localhost:8080/"
        },
        "id": "L_POB8_N0Wjs",
        "outputId": "c6b06bbc-2154-4bae-fefa-a4560fb9f7df"
      },
      "outputs": [
        {
          "name": "stdout",
          "output_type": "stream",
          "text": [
            "\u001b[1m380/380\u001b[0m \u001b[32m━━━━━━━━━━━━━━━━━━━━\u001b[0m\u001b[37m\u001b[0m \u001b[1m90s\u001b[0m 216ms/step - caring_caring_accuracy: 0.6681 - gives_good_feedback_gives_good_feedback_accuracy: 0.5866 - loss: 9.8306 - respected_respected_accuracy: 0.6862 - student_difficult_student_difficult_mae: 1.4691 - student_star_student_star_mae: 1.7350 - val_caring_caring_accuracy: 0.7152 - val_gives_good_feedback_gives_good_feedback_accuracy: 0.6832 - val_loss: 5.6656 - val_respected_respected_accuracy: 0.7079 - val_student_difficult_student_difficult_mae: 1.0928 - val_student_star_student_star_mae: 1.2888\n"
          ]
        }
      ],
      "source": [
        "history = model.fit(\n",
        "    X_train,\n",
        "    [y_train[col] for col in y_train.columns],\n",
        "    epochs=1,\n",
        "    batch_size=32,\n",
        "    validation_split=0.2,\n",
        "    verbose=1\n",
        ")"
      ]
    },
    {
      "cell_type": "code",
      "execution_count": 24,
      "metadata": {
        "colab": {
          "base_uri": "https://localhost:8080/"
        },
        "id": "fyLlntGU00r5",
        "outputId": "19d831b1-cb28-42d7-eea2-ce1b8050fcc9"
      },
      "outputs": [
        {
          "name": "stdout",
          "output_type": "stream",
          "text": [
            "\u001b[1m119/119\u001b[0m \u001b[32m━━━━━━━━━━━━━━━━━━━━\u001b[0m\u001b[37m\u001b[0m \u001b[1m12s\u001b[0m 85ms/step\n",
            "Model Performance:\n",
            "             Output              Metric    Value\n",
            "       student_star Mean Absolute Error 1.280368\n",
            "  student_difficult Mean Absolute Error 1.089291\n",
            "gives_good_feedback            Accuracy 0.685458\n",
            "             caring            Accuracy 0.727345\n",
            "          respected            Accuracy 0.706006\n",
            "\n",
            "Average Classification Accuracy: 0.7063\n",
            "Average Regression MAE: 1.1848\n"
          ]
        }
      ],
      "source": [
        "y_pred = model.predict(X_test)\n",
        "\n",
        "\n",
        "\n",
        "# Create a list to store the results\n",
        "results = []\n",
        "\n",
        "for i, col in enumerate(y_test.columns):\n",
        "    if y_test[col].dtype == 'float64':\n",
        "        # For regression tasks, use Mean Absolute Error\n",
        "        mae = mean_absolute_error(y_test[col], y_pred[i])\n",
        "        results.append({\n",
        "            'Output': col,\n",
        "            'Metric': 'Mean Absolute Error',\n",
        "            'Value': mae\n",
        "        })\n",
        "    else:\n",
        "        # For binary classification tasks, use Accuracy\n",
        "        y_pred_binary = (y_pred[i] > 0.5).astype(int)\n",
        "        accuracy = accuracy_score(y_test[col], y_pred_binary)\n",
        "        results.append({\n",
        "            'Output': col,\n",
        "            'Metric': 'Accuracy',\n",
        "            'Value': accuracy\n",
        "        })\n",
        "\n",
        "# Create the DataFrame from the results list\n",
        "accuracy_df = pd.DataFrame(results)\n",
        "\n",
        "# Display the results\n",
        "print(\"Model Performance:\")\n",
        "print(accuracy_df.to_string(index=False))\n",
        "\n",
        "# Calculate and display average accuracy for classification tasks\n",
        "classification_accuracy = accuracy_df[accuracy_df['Metric'] == 'Accuracy']['Value'].mean()\n",
        "print(f\"\\nAverage Classification Accuracy: {classification_accuracy:.4f}\")\n",
        "\n",
        "# Calculate and display average MAE for regression tasks\n",
        "regression_mae = accuracy_df[accuracy_df['Metric'] == 'Mean Absolute Error']['Value'].mean()\n",
        "print(f\"Average Regression MAE: {regression_mae:.4f}\")"
      ]
    }
  ],
  "metadata": {
    "colab": {
      "provenance": []
    },
    "kernelspec": {
      "display_name": "Python 3",
      "name": "python3"
    },
    "language_info": {
      "name": "python"
    }
  },
  "nbformat": 4,
  "nbformat_minor": 0
}
