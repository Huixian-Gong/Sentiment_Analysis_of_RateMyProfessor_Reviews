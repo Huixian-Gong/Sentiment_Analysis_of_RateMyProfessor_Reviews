{
 "cells": [
  {
   "cell_type": "markdown",
   "metadata": {},
   "source": [
    "### 1. Import Libraries"
   ]
  },
  {
   "cell_type": "code",
   "execution_count": 41,
   "metadata": {},
   "outputs": [
    {
     "name": "stderr",
     "output_type": "stream",
     "text": [
      "[nltk_data] Downloading package stopwords to\n",
      "[nltk_data]     /data/home/huixian/nltk_data...\n",
      "[nltk_data]   Package stopwords is already up-to-date!\n",
      "[nltk_data] Downloading package punkt to\n",
      "[nltk_data]     /data/home/huixian/nltk_data...\n",
      "[nltk_data]   Package punkt is already up-to-date!\n",
      "[nltk_data] Downloading package punkt_tab to\n",
      "[nltk_data]     /data/home/huixian/nltk_data...\n",
      "[nltk_data]   Package punkt_tab is already up-to-date!\n"
     ]
    },
    {
     "data": {
      "text/plain": [
       "True"
      ]
     },
     "execution_count": 41,
     "metadata": {},
     "output_type": "execute_result"
    }
   ],
   "source": [
    "import numpy as np\n",
    "import pandas as pd\n",
    "import torch\n",
    "import tqdm\n",
    "import transformers\n",
    "import string\n",
    "import re\n",
    "import nltk\n",
    "import contractions\n",
    "from nltk.corpus import stopwords\n",
    "from nltk.tokenize import word_tokenize\n",
    "from nltk.stem import PorterStemmer\n",
    "\n",
    "nltk.download('stopwords')\n",
    "nltk.download('punkt')\n",
    "nltk.download('punkt_tab')"
   ]
  },
  {
   "cell_type": "markdown",
   "metadata": {},
   "source": [
    "### 2. Read CSV"
   ]
  },
  {
   "cell_type": "code",
   "execution_count": 95,
   "metadata": {},
   "outputs": [
    {
     "name": "stdout",
     "output_type": "stream",
     "text": [
      "Index(['professor_id', 'comment', 'star_rating', 'course_difficulty',\n",
      "       'gives_good_feedback', 'caring', 'respected', 'participation_matters',\n",
      "       'clear_grading_criteria', 'skip_class', 'amazing_lectures',\n",
      "       'inspirational', 'tough_grader', 'hilarious', 'get_ready_to_read',\n",
      "       'lots_of_homework', 'accessible_outside_class', 'lecture_heavy',\n",
      "       'extra_credit', 'graded_by_few_things', 'group_projects',\n",
      "       'would_take_again', 'skip_class_you_wont_pass', 'test_heavy',\n",
      "       'so_many_papers', 'beware_of_pop_quizzes', 'tests_are_tough',\n",
      "       'IsCourseOnline', 'noTag'],\n",
      "      dtype='object')\n"
     ]
    }
   ],
   "source": [
    "data = pd.read_csv('/data/home/huixian/Documents/Sentiment_Analysis_of_RateMyProfessor_Reviews/data/new_data/original.csv')\n",
    "data = data.rename(columns={'Professor ID':'professor_id', 'Comment': 'comment', 'Star Rating': 'star_rating', 'Course Difficulty': 'course_difficulty'})\n",
    "print(data.columns)\n"
   ]
  },
  {
   "cell_type": "markdown",
   "metadata": {},
   "source": [
    "### 3. Split by `noTags`"
   ]
  },
  {
   "cell_type": "code",
   "execution_count": 96,
   "metadata": {},
   "outputs": [
    {
     "name": "stdout",
     "output_type": "stream",
     "text": [
      "Rows with tags: 34440\n",
      "\n",
      "Rows with no tags: 89234\n",
      "\n"
     ]
    }
   ],
   "source": [
    "rows_with_tags = data[data['noTag'] == 0]\n",
    "print(f'Rows with tags: {rows_with_tags.shape[0]}\\n')\n",
    "rows_with_notags = data[data['noTag'] == 1]\n",
    "print(f'Rows with no tags: {rows_with_notags.shape[0]}\\n')"
   ]
  },
  {
   "cell_type": "code",
   "execution_count": 97,
   "metadata": {},
   "outputs": [
    {
     "name": "stdout",
     "output_type": "stream",
     "text": [
      "Rows with tags: 34440\n",
      "\n",
      "Rows with no tags: 89234\n",
      "\n"
     ]
    }
   ],
   "source": [
    "rows_with_tags = rows_with_tags.drop(columns=['professor_id', 'skip_class', 'IsCourseOnline', 'noTag'])\n",
    "print(f'Rows with tags: {rows_with_tags.shape[0]}\\n')\n",
    "rows_with_notags = rows_with_notags.drop(columns=['professor_id', 'skip_class', 'IsCourseOnline', 'noTag'])\n",
    "print(f'Rows with no tags: {rows_with_notags.shape[0]}\\n')"
   ]
  },
  {
   "cell_type": "code",
   "execution_count": 98,
   "metadata": {},
   "outputs": [
    {
     "name": "stdout",
     "output_type": "stream",
     "text": [
      "Rows with tags: 34426\n",
      "\n"
     ]
    }
   ],
   "source": [
    "rows_with_tags = rows_with_tags.drop(rows_with_tags[rows_with_tags.drop(columns=['comment', 'star_rating', 'course_difficulty']).sum(axis=1) == 0].index) # dropping the 14 rows with no tags\n",
    "print(f'Rows with tags: {rows_with_tags.shape[0]}\\n')"
   ]
  },
  {
   "cell_type": "markdown",
   "metadata": {},
   "source": [
    "### 4. Preprocess Comments"
   ]
  },
  {
   "cell_type": "code",
   "execution_count": 99,
   "metadata": {},
   "outputs": [],
   "source": [
    "stop_words = set(stopwords.words('english'))\n",
    "stemmer = PorterStemmer()\n",
    "\n",
    "wanted_stopword = ['not', 'no']\n",
    "for ws in wanted_stopword:\n",
    "    stop_words.discard(ws)\n",
    "\n",
    "# Define a function to preprocess comments\n",
    "def preprocess_text(text):\n",
    "    text = contractions.fix(str(text))\n",
    "\n",
    "    # 1. Convert to lowercase\n",
    "    text = str(text).lower()\n",
    "\n",
    "    # 2. Remove punctuation\n",
    "    text = text.translate(str.maketrans('', '', string.punctuation))\n",
    "\n",
    "    # 3. Tokenize words\n",
    "    words = word_tokenize(text)\n",
    "\n",
    "    # 4. Remove stopwords\n",
    "    # words = [word for word in words if word not in stop_words]\n",
    "\n",
    "    # 5. Perform stemming (optional)\n",
    "    words = [stemmer.stem(word) for word in words]\n",
    "\n",
    "    # 6. Join words back into a single string\n",
    "    processed_text = ' '.join(words)\n",
    "\n",
    "    return processed_text\n",
    "\n"
   ]
  },
  {
   "cell_type": "code",
   "execution_count": 100,
   "metadata": {},
   "outputs": [
    {
     "name": "stdout",
     "output_type": "stream",
     "text": [
      "Index(['comment', 'star_rating', 'course_difficulty', 'gives_good_feedback',\n",
      "       'caring', 'respected', 'participation_matters',\n",
      "       'clear_grading_criteria', 'amazing_lectures', 'inspirational',\n",
      "       'tough_grader', 'hilarious', 'get_ready_to_read', 'lots_of_homework',\n",
      "       'accessible_outside_class', 'lecture_heavy', 'extra_credit',\n",
      "       'graded_by_few_things', 'group_projects', 'would_take_again',\n",
      "       'skip_class_you_wont_pass', 'test_heavy', 'so_many_papers',\n",
      "       'beware_of_pop_quizzes', 'tests_are_tough'],\n",
      "      dtype='object')\n"
     ]
    }
   ],
   "source": [
    "print(rows_with_tags.columns)"
   ]
  },
  {
   "cell_type": "markdown",
   "metadata": {},
   "source": [
    "#### rows_with_tags"
   ]
  },
  {
   "cell_type": "code",
   "execution_count": 101,
   "metadata": {},
   "outputs": [
    {
     "name": "stdout",
     "output_type": "stream",
     "text": [
      "Rows after dropping empty comments: 34360\n",
      "\n"
     ]
    }
   ],
   "source": [
    "rows_with_tags = rows_with_tags[rows_with_tags['comment'] != 'No Comments']\n",
    "rows_with_tags = rows_with_tags[rows_with_tags['comment'] != '']\n",
    "rows_with_tags['comment'] = rows_with_tags['comment'].apply(preprocess_text)\n",
    "rows_with_tags = rows_with_tags[rows_with_tags['comment'].apply(len) >= 4]\n",
    "print(f'Rows after dropping empty comments: {rows_with_tags.shape[0]}\\n')"
   ]
  },
  {
   "cell_type": "code",
   "execution_count": 102,
   "metadata": {},
   "outputs": [
    {
     "name": "stdout",
     "output_type": "stream",
     "text": [
      "Rows after dropping empty comments: 34360\n",
      "\n"
     ]
    }
   ],
   "source": [
    "rows_with_tags = rows_with_tags[rows_with_tags['comment'].str.strip() != \"\"] # dropping ''\n",
    "rows_with_tags = rows_with_tags.dropna(subset=['comment']) # dropping Nones\n",
    "print(f'Rows after dropping empty comments: {rows_with_tags.shape[0]}\\n')"
   ]
  },
  {
   "cell_type": "markdown",
   "metadata": {},
   "source": [
    "#### rows_with_notags"
   ]
  },
  {
   "cell_type": "code",
   "execution_count": 103,
   "metadata": {},
   "outputs": [
    {
     "name": "stdout",
     "output_type": "stream",
     "text": [
      "Rows after dropping empty comments: 84532\n",
      "\n"
     ]
    }
   ],
   "source": [
    "rows_with_notags = rows_with_notags[rows_with_notags['comment'] != 'No Comments']\n",
    "rows_with_notags = rows_with_notags[rows_with_notags['comment'] != '']\n",
    "rows_with_notags['comment'] = rows_with_notags['comment'].apply(preprocess_text)\n",
    "rows_with_notags = rows_with_notags[rows_with_notags['comment'].apply(len) >= 4]\n",
    "print(f'Rows after dropping empty comments: {rows_with_notags.shape[0]}\\n')"
   ]
  },
  {
   "cell_type": "code",
   "execution_count": 104,
   "metadata": {},
   "outputs": [
    {
     "name": "stdout",
     "output_type": "stream",
     "text": [
      "Rows after dropping empty comments: 84532\n",
      "\n"
     ]
    }
   ],
   "source": [
    "rows_with_notags = rows_with_notags[rows_with_notags['comment'].str.strip() != \"\"] # dropping ''\n",
    "rows_with_notags = rows_with_notags.dropna(subset=['comment']) # dropping Nones\n",
    "print(f'Rows after dropping empty comments: {rows_with_notags.shape[0]}\\n')"
   ]
  },
  {
   "cell_type": "markdown",
   "metadata": {},
   "source": [
    "#### Mixed_sets"
   ]
  },
  {
   "cell_type": "code",
   "execution_count": 110,
   "metadata": {},
   "outputs": [
    {
     "name": "stdout",
     "output_type": "stream",
     "text": [
      "Rows of mixed_set: 35047\n",
      "\n"
     ]
    }
   ],
   "source": [
    "sampled_rows = rows_with_notags.sample(n = int(0.02 * rows_with_tags.shape[0]))\n",
    "complete_set = pd.concat([rows_with_tags, sampled_rows], ignore_index=True)\n",
    "print(f'Rows of mixed_set: {complete_set.shape[0]}\\n')"
   ]
  },
  {
   "cell_type": "code",
   "execution_count": 111,
   "metadata": {},
   "outputs": [
    {
     "name": "stdout",
     "output_type": "stream",
     "text": [
      "Rows of mixed_set: 687\n",
      "\n"
     ]
    }
   ],
   "source": [
    "print(f'Rows of mixed_set: {sampled_rows.shape[0]}\\n')"
   ]
  },
  {
   "cell_type": "markdown",
   "metadata": {},
   "source": [
    "### 5. Export"
   ]
  },
  {
   "cell_type": "code",
   "execution_count": 112,
   "metadata": {},
   "outputs": [],
   "source": [
    "# preprocessed with tags\n",
    "rows_with_tags.to_csv('rows_with_tags.csv', index=False)    \n",
    "# preprocessed with notags\n",
    "rows_with_notags.to_csv('rows_with_notags.csv', index=False)\n",
    "# preprocessed with tags + 2% from notags\n",
    "complete_set.to_csv('complete_set.csv', index=False)\n"
   ]
  },
  {
   "cell_type": "markdown",
   "metadata": {},
   "source": [
    "### 6. Andy's\n"
   ]
  },
  {
   "cell_type": "code",
   "execution_count": 114,
   "metadata": {},
   "outputs": [
    {
     "name": "stdout",
     "output_type": "stream",
     "text": [
      "Rows of andy's: 83770\n",
      "\n"
     ]
    }
   ],
   "source": [
    "andy = rows_with_notags.merge(sampled_rows, how='outer', indicator=True).query('_merge == \"left_only\"').drop(columns=['_merge'])\n",
    "print(f'Rows of andy\\'s: {andy.shape[0]}\\n')\n",
    "andy.to_csv('andy.csv', index=False)"
   ]
  }
 ],
 "metadata": {
  "kernelspec": {
   "display_name": "multiood",
   "language": "python",
   "name": "python3"
  },
  "language_info": {
   "codemirror_mode": {
    "name": "ipython",
    "version": 3
   },
   "file_extension": ".py",
   "mimetype": "text/x-python",
   "name": "python",
   "nbconvert_exporter": "python",
   "pygments_lexer": "ipython3",
   "version": "3.12.7"
  }
 },
 "nbformat": 4,
 "nbformat_minor": 2
}
